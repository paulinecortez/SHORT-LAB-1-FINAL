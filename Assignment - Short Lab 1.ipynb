{
 "cells": [
  {
   "cell_type": "code",
   "execution_count": 22,
   "metadata": {},
   "outputs": [
    {
     "name": "stdout",
     "output_type": "stream",
     "text": [
      "Enter US dollar quantity here 1\n",
      "This amount of US dollars: 1.0 Amounts to 50.0 in Philippine Peso\n"
     ]
    }
   ],
   "source": [
    "## Problem 1\n",
    "def usd_php(usd):\n",
    "    conversion = usd\n",
    "    return conversion*50\n",
    "\n",
    "usd = float(input('Enter US dollar quantity here '))\n",
    "conversion = usd_php(usd)\n",
    "print('This amount of US dollars: {0} Amounts to {1} in Philippine Peso'.format (usd, conversion))\n"
   ]
  },
  {
   "cell_type": "code",
   "execution_count": 23,
   "metadata": {},
   "outputs": [
    {
     "name": "stdout",
     "output_type": "stream",
     "text": [
      "Enter a positive integer 55\n",
      "Enter another positive integer 3\n",
      "The sum of 55 and 3 is 58\n",
      "The difference of 55 and 3 is 52\n",
      "The product of 55 and 3 is 165\n",
      "The quotient of 55 and 3 is 18\n",
      "The remainder of 55 and 3 is 1\n"
     ]
    }
   ],
   "source": [
    "## Problem 2\n",
    "\n",
    "num1= int(input('Enter a positive integer '))\n",
    "num2= int(input('Enter another positive integer '))\n",
    "\n",
    "addition = num1 + num2\n",
    "print('The sum of {0} and {1} is {2}'.format(num1, num2, addition))\n",
    "\n",
    "subtract = num1 - num2\n",
    "print('The difference of {0} and {1} is {2}'.format(num1, num2, subtract))\n",
    "\n",
    "multiplication = num1 * num2\n",
    "print('The product of {0} and {1} is {2}'.format(num1, num2, multiplication))\n",
    "\n",
    "division = num1 / num2 \n",
    "divisioni = int(division)\n",
    "print('The quotient of {0} and {1} is {2}'.format(num1, num2, divisioni))\n",
    "\n",
    "remainder = num1 % num2\n",
    "print('The remainder of {0} and {1} is {2}'.format(num1, num2, remainder))\n"
   ]
  },
  {
   "cell_type": "code",
   "execution_count": 21,
   "metadata": {},
   "outputs": [
    {
     "name": "stdout",
     "output_type": "stream",
     "text": [
      "Enter your weight in kilograms here: 65\n",
      "Enter your height in cemtimeters here: 180\n",
      "Your BMI is  20.061728395061728\n"
     ]
    }
   ],
   "source": [
    " ## Problem 3\n",
    "\n",
    "def cmtom(cms) :\n",
    "    return (cms/100)\n",
    "def bmi(kgs,meters) :\n",
    "    return (kgs/(meters*meters))\n",
    "\n",
    "kgs = int(input(\"Enter your weight in kilograms here: \"))\n",
    "cms = int(input(\"Enter your height in cemtimeters here: \"))\n",
    "\n",
    "\n",
    "meters = cmtom(cms)\n",
    "\n",
    "\n",
    "print(\"Your BMI is \", bmi(kgs,meters))\n"
   ]
  },
  {
   "cell_type": "code",
   "execution_count": null,
   "metadata": {},
   "outputs": [],
   "source": []
  },
  {
   "cell_type": "code",
   "execution_count": null,
   "metadata": {},
   "outputs": [],
   "source": []
  }
 ],
 "metadata": {
  "kernelspec": {
   "display_name": "Python 3",
   "language": "python",
   "name": "python3"
  },
  "language_info": {
   "codemirror_mode": {
    "name": "ipython",
    "version": 3
   },
   "file_extension": ".py",
   "mimetype": "text/x-python",
   "name": "python",
   "nbconvert_exporter": "python",
   "pygments_lexer": "ipython3",
   "version": "3.8.5"
  }
 },
 "nbformat": 4,
 "nbformat_minor": 4
}
